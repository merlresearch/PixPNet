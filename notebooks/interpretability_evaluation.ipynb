{
 "cells": [
  {
   "cell_type": "code",
   "execution_count": null,
   "id": "35a185ef",
   "metadata": {},
   "outputs": [],
   "source": [
    "import os\n",
    "import os.path as osp\n",
    "\n",
    "import torch\n",
    "\n",
    "try:\n",
    "    import pixpnet\n",
    "except ImportError:\n",
    "    import sys\n",
    "\n",
    "    sys.path.append('..')\n",
    "\n",
    "    import pixpnet\n",
    "finally:\n",
    "    from pixpnet.data import get_datasets\n",
    "    from pixpnet.lightning.lightning_data import LitData\n",
    "    from pixpnet.protonets.evaluate import consistency\n",
    "    from pixpnet.protonets.evaluate import stability\n",
    "    from pixpnet.protonets.evaluate import relevance_ordering_test\n",
    "    from pixpnet.protonets.utils import load_config_and_best_model\n",
    "    from pixpnet.utils_torch import unravel_index"
   ]
  },
  {
   "cell_type": "markdown",
   "metadata": {
    "collapsed": false
   },
   "source": [
    "# To Run\n",
    "Replace `logdir` with the path to your log directory (relative to the notebook). A template format is shown below."
   ]
  },
  {
   "cell_type": "code",
   "execution_count": null,
   "id": "48b7d3e0",
   "metadata": {},
   "outputs": [],
   "source": [
    "logdir = '/path/to/logs/protonet/dataset/protonet/timestamp'"
   ]
  },
  {
   "cell_type": "code",
   "execution_count": null,
   "id": "bcfeca86",
   "metadata": {},
   "outputs": [],
   "source": [
    "config, model = load_config_and_best_model(logdir)\n",
    "print(config.model.feature_extractor, config.model.feature_layer)"
   ]
  },
  {
   "cell_type": "code",
   "execution_count": null,
   "id": "290c319c",
   "metadata": {},
   "outputs": [],
   "source": [
    "model = model.eval().to('cuda')"
   ]
  },
  {
   "cell_type": "code",
   "execution_count": null,
   "id": "dcceab22",
   "metadata": {},
   "outputs": [],
   "source": [
    "data_parts = LitData(\n",
    "    config,\n",
    "    yield_img_id=True,\n",
    "    yield_orig_shape=True,\n",
    "    part_annotations=True,\n",
    "    num_workers=0,  # due to notebook multiprocessing issues\n",
    ")\n",
    "data_parts.setup()"
   ]
  },
  {
   "cell_type": "markdown",
   "metadata": {
    "collapsed": false
   },
   "source": [
    "## Choose one of these options to run"
   ]
  },
  {
   "cell_type": "code",
   "execution_count": null,
   "id": "2f60c019",
   "metadata": {},
   "outputs": [],
   "source": [
    "pixel_space_method = 'bbox'\n",
    "# pixel_space_method = 'upsample'"
   ]
  },
  {
   "cell_type": "code",
   "execution_count": null,
   "id": "34e291cd",
   "metadata": {
    "scrolled": true
   },
   "outputs": [],
   "source": [
    "consistency_score_soft, consistency_score_hard = consistency(\n",
    "    model=model.model,\n",
    "    data=data_parts.test_dataloader(),\n",
    "    config=config,\n",
    "    parts=data_parts.test.df_parts,\n",
    "    metadata=data_parts.test.data,\n",
    "    method=pixel_space_method,\n",
    ")\n",
    "print(f'consistency_score_soft={consistency_score_soft}\\n'\n",
    "      f'consistency_score_hard={consistency_score_hard}')"
   ]
  },
  {
   "cell_type": "code",
   "execution_count": null,
   "id": "34118876",
   "metadata": {
    "scrolled": true
   },
   "outputs": [],
   "source": [
    "stability_score_soft, stability_score = stability(\n",
    "    model=model.model,\n",
    "    data=data_parts.test_dataloader(),\n",
    "    config=config,\n",
    "    parts=data_parts.test.df_parts,\n",
    "    metadata=data_parts.test.data,\n",
    "    method=pixel_space_method,\n",
    ")\n",
    "print(f'stability_score_soft={stability_score_soft}\\n'\n",
    "      f'stability_score     ={stability_score}')"
   ]
  },
  {
   "cell_type": "code",
   "execution_count": null,
   "id": "fb43103f",
   "metadata": {},
   "outputs": [],
   "source": [
    "data = LitData(config, num_workers=0)\n",
    "data.setup()"
   ]
  },
  {
   "cell_type": "code",
   "execution_count": null,
   "id": "cbee463e",
   "metadata": {},
   "outputs": [],
   "source": [
    "rot_viz_dir = osp.join(logdir, 'rot_data_viz')"
   ]
  },
  {
   "cell_type": "code",
   "execution_count": null,
   "id": "44387587",
   "metadata": {
    "scrolled": false
   },
   "outputs": [],
   "source": [
    "rot_results = {}\n",
    "\n",
    "# NOTE: Reduce num_samples and/or prop_pixels to speed this up\n",
    "rot_params = dict(\n",
    "    num_samples=50,\n",
    "    normalized=False,\n",
    "    prop_pixels=1.,\n",
    "    same_class=True,\n",
    "    zeros=False,  # if false, use a random image\n",
    "    seed=4,  # for consistency between methods\n",
    ")\n",
    "\n",
    "rot_save_dir = osp.join(logdir, 'rot_data')\n",
    "os.makedirs(rot_save_dir, exist_ok=True)\n",
    "\n",
    "save_basename = f'{config.dataset.name}'\n",
    "for k, v in rot_params.items():\n",
    "    if isinstance(v, float):\n",
    "        if v.is_integer():\n",
    "            v = str(int(v))\n",
    "        else:\n",
    "            v = f'{v:.5f}'\n",
    "    save_basename += f'__{k}-{v}'\n",
    "\n",
    "for method in [\n",
    "    'rf',\n",
    "    'upscale',\n",
    "    'random',\n",
    "    'prp',\n",
    "]:\n",
    "    print(f'Begin method = {method}')\n",
    "\n",
    "    rot_save_path = osp.join(rot_save_dir, save_basename + f'__method-{method}.pt')\n",
    "    print(rot_save_path)\n",
    "\n",
    "    if osp.exists(rot_save_path):\n",
    "        print('Load results from', rot_save_path)\n",
    "        rot_results[method] = torch.load(rot_save_path)\n",
    "    elif method == 'prp':\n",
    "        print(f'WARNING: prp result is missing from {rot_save_path}! Ensure you '\n",
    "              f'have gathered it with the companion interpretability_evaluation_prp.ipynb notebook.')\n",
    "    else:\n",
    "        cum_sims, cum_sims_agg = relevance_ordering_test(\n",
    "            model=model.model,\n",
    "            data=data.test_dataloader(),\n",
    "            method=method,\n",
    "            savedir_for_viz=rot_viz_dir,\n",
    "            **rot_params,\n",
    "        )\n",
    "        rot_results[method] = {\n",
    "            'cum_sims': cum_sims,\n",
    "            'cum_sims_agg': cum_sims_agg,\n",
    "        }\n",
    "        print('Save to', rot_save_path)\n",
    "        torch.save(rot_results[method], rot_save_path)"
   ]
  },
  {
   "cell_type": "code",
   "execution_count": null,
   "id": "222b1475",
   "metadata": {},
   "outputs": [],
   "source": [
    "% matplotlib inline"
   ]
  },
  {
   "cell_type": "code",
   "execution_count": null,
   "id": "944cb0e5",
   "metadata": {},
   "outputs": [],
   "source": [
    "from matplotlib import rc\n",
    "import seaborn as sns\n",
    "import numpy as np\n",
    "import pandas as pd\n",
    "\n",
    "sns.set(\n",
    "    context='talk',\n",
    "    style='ticks',\n",
    "    font_scale=0.5,\n",
    ")\n",
    "\n",
    "rc('font', **{\n",
    "    'family': 'serif',\n",
    "    'sans-serif': ['Times']\n",
    "})\n",
    "rc('text', usetex=True)"
   ]
  },
  {
   "cell_type": "code",
   "execution_count": null,
   "id": "b732c24b",
   "metadata": {},
   "outputs": [],
   "source": [
    "from pixpnet.data import get_metadata\n",
    "\n",
    "metadata = get_metadata(config)"
   ]
  },
  {
   "cell_type": "code",
   "execution_count": null,
   "id": "ad353f78",
   "metadata": {},
   "outputs": [],
   "source": [
    "from pixpnet.symbolic.models import compute_rf_data\n",
    "\n",
    "_, rf_data = compute_rf_data(config.model.feature_extractor,\n",
    "                             metadata.input_size, metadata.input_size,\n",
    "                             num_classes=1)\n",
    "rf_layer = rf_data[config.model.feature_layer]\n",
    "rf_hcc_lens = [len(hcc) for hcc in rf_layer.flat]\n",
    "im_size = metadata.input_size ** 2\n",
    "\n",
    "mean_rf_pct = np.mean(rf_hcc_lens) / im_size * 100"
   ]
  },
  {
   "cell_type": "code",
   "execution_count": null,
   "id": "e2f45415",
   "metadata": {},
   "outputs": [],
   "source": [
    "dfs = []\n",
    "\n",
    "for method, scores in rot_results.items():\n",
    "    cum_sims_agg = scores['cum_sims_agg']\n",
    "    pcts = np.arange(len(cum_sims_agg)) / (metadata.input_size ** 2) * 100\n",
    "\n",
    "    # area above the baseline similarity value\n",
    "    # [0] is the baseline similarity value (all random) - used as min\n",
    "    # [-1] is the original similarity value - used as max\n",
    "    # it is possible for area to be negative or positive\n",
    "    area = np.trapz(x=pcts / 100, y=(cum_sims_agg - cum_sims_agg[0]) / (cum_sims_agg[-1] - cum_sims_agg[0]))\n",
    "\n",
    "    # pct at which we hit/surpass the original similarity score\n",
    "    past_orig_sim_idx = np.where(cum_sims_agg >= cum_sims_agg[-1])[0][0]\n",
    "    pct_orig_sim_point = pcts[past_orig_sim_idx]\n",
    "\n",
    "    print(f'{method} area = {area} | pct@orig. sim = {pct_orig_sim_point:.3f}%')\n",
    "\n",
    "    df_m = pd.DataFrame({\n",
    "        'Mean Prototype Similarity': cum_sims_agg,\n",
    "        '\\% Pixels Added Back': pcts,\n",
    "        'Method': method,\n",
    "    })\n",
    "    dfs.append(df_m)\n",
    "\n",
    "if dfs:\n",
    "    df = pd.concat(dfs, ignore_index=True)\n",
    "\n",
    "    df['Method'] = df['Method'].replace({\n",
    "        'rf': 'Ours',\n",
    "        'upscale': 'Upsample',\n",
    "        'random': 'Random',\n",
    "        'prp': 'PRP',\n",
    "    })\n",
    "\n",
    "    hue_order = ['Random', 'Ours', 'Upsample']\n",
    "    if ('PRP' == df['Method']).any():\n",
    "        hue_order.append('PRP')\n",
    "    g = sns.relplot(\n",
    "        data=df,\n",
    "        x='\\% Pixels Added Back',\n",
    "        y='Mean Prototype Similarity',\n",
    "        hue='Method',\n",
    "        hue_order=hue_order,\n",
    "        kind='line',\n",
    "        aspect=1.4,\n",
    "    )\n",
    "    ylim = g.ax.get_ylim()\n",
    "    g.ax.plot([mean_rf_pct, mean_rf_pct], [ylim[0], ylim[1]], 'k--', label='Mean Receptive Field of Layer')\n",
    "    g.ax.set_ylim(ylim)\n",
    "\n",
    "    # Uncomment to save figure\n",
    "    # !mkdir -p ../ figures\n",
    "    # save_basename = f'../figures/rot_{config.model.feature_extractor}_{config.model.feature_layer}'\n",
    "    # g.savefig(f'{save_basename}.pdf')"
   ]
  }
 ],
 "metadata": {
  "kernelspec": {
   "display_name": "ngn",
   "language": "python",
   "name": "ngn"
  },
  "language_info": {
   "codemirror_mode": {
    "name": "ipython",
    "version": 3
   },
   "file_extension": ".py",
   "mimetype": "text/x-python",
   "name": "python",
   "nbconvert_exporter": "python",
   "pygments_lexer": "ipython3",
   "version": "3.10.9"
  }
 },
 "nbformat": 4,
 "nbformat_minor": 5
}
