{
 "cells": [
  {
   "cell_type": "code",
   "execution_count": null,
   "id": "35a185ef",
   "metadata": {},
   "outputs": [],
   "source": [
    "import os\n",
    "import os.path as osp\n",
    "\n",
    "import torch\n",
    "\n",
    "try:\n",
    "    import pixpnet\n",
    "except ImportError:\n",
    "    import sys\n",
    "\n",
    "    sys.path.append('..')\n",
    "\n",
    "    import pixpnet\n",
    "finally:\n",
    "    from pixpnet.lightning.lightning_data import LitData\n",
    "    from pixpnet.protonets.evaluate import relevance_ordering_test\n",
    "    from pixpnet.protonets.utils import load_config_and_best_model\n",
    "    from pixpnet.protonets.prp.prp import prp_canonized_model"
   ]
  },
  {
   "cell_type": "markdown",
   "metadata": {
    "collapsed": false
   },
   "source": [
    "# To Run\n",
    "Replace `logdir` with the path to your log directory (relative to the notebook). A template format is shown below.\n",
    "\n",
    "This notebook generates data that can then be visualized in the `interpretability_evaluation.ipynb` notebook. It needs\n",
    "to be run separately due to the in-place modifications the PRP codebase does to the ProtoPartNN objects."
   ]
  },
  {
   "cell_type": "code",
   "execution_count": null,
   "id": "48b7d3e0",
   "metadata": {},
   "outputs": [],
   "source": [
    "logdir = '/path/to/logs/protonet/dataset/protonet/timestamp'"
   ]
  },
  {
   "cell_type": "code",
   "execution_count": null,
   "id": "bcfeca86",
   "metadata": {},
   "outputs": [],
   "source": [
    "config, model = load_config_and_best_model(logdir)\n",
    "print(config.model.feature_extractor, config.model.feature_layer)"
   ]
  },
  {
   "cell_type": "code",
   "execution_count": null,
   "id": "290c319c",
   "metadata": {},
   "outputs": [],
   "source": [
    "model = model.eval().to('cuda')"
   ]
  },
  {
   "cell_type": "code",
   "execution_count": null,
   "id": "babf7c41",
   "metadata": {},
   "outputs": [],
   "source": [
    "prp_model = prp_canonized_model(model.model, config)"
   ]
  },
  {
   "cell_type": "code",
   "execution_count": null,
   "id": "fb43103f",
   "metadata": {},
   "outputs": [],
   "source": [
    "data = LitData(config, num_workers=0)\n",
    "data.setup()"
   ]
  },
  {
   "cell_type": "code",
   "execution_count": null,
   "id": "44387587",
   "metadata": {
    "scrolled": false
   },
   "outputs": [],
   "source": [
    "rot_results = {}\n",
    "\n",
    "# NOTE: Reduce num_samples and/or prop_pixels to speed this up\n",
    "rot_params = dict(\n",
    "    num_samples=50,\n",
    "    normalized=False,\n",
    "    prop_pixels=1.,\n",
    "    same_class=True,\n",
    "    zeros=False,  # if false, use a random image\n",
    "    seed=4,  # for consistency between methods\n",
    ")\n",
    "\n",
    "rot_save_dir = osp.join(logdir, 'rot_data')\n",
    "os.makedirs(rot_save_dir, exist_ok=True)\n",
    "\n",
    "save_basename = f'{config.dataset.name}'\n",
    "for k, v in rot_params.items():\n",
    "    if isinstance(v, float):\n",
    "        if v.is_integer():\n",
    "            v = str(int(v))\n",
    "        else:\n",
    "            v = f'{v:.5f}'\n",
    "    save_basename += f'__{k}-{v}'\n",
    "\n",
    "for method in [\n",
    "    'prp',\n",
    "]:\n",
    "    if method != 'prp':\n",
    "        print('You aren\\'t running prp...make sure you know that you\\'re doing...')\n",
    "\n",
    "    print(f'Begin method = {method}')\n",
    "\n",
    "    rot_save_path = osp.join(rot_save_dir, save_basename + f'__method-{method}.pt')\n",
    "\n",
    "    if osp.exists(rot_save_path):\n",
    "        print('Load results from', rot_save_path)\n",
    "        rot_results[method] = torch.load(rot_save_path)\n",
    "    else:\n",
    "        cum_sims, cum_sims_agg = relevance_ordering_test(\n",
    "            model=model.model,\n",
    "            data=data.test_dataloader(),\n",
    "            method=method,\n",
    "            config=config,\n",
    "            **rot_params,\n",
    "        )\n",
    "        rot_results[method] = {\n",
    "            'cum_sims': cum_sims,\n",
    "            'cum_sims_agg': cum_sims_agg,\n",
    "        }\n",
    "\n",
    "    print('Save to', rot_save_path)\n",
    "    torch.save(rot_results[method], rot_save_path)"
   ]
  }
 ],
 "metadata": {
  "kernelspec": {
   "display_name": "ngn",
   "language": "python",
   "name": "ngn"
  },
  "language_info": {
   "codemirror_mode": {
    "name": "ipython",
    "version": 3
   },
   "file_extension": ".py",
   "mimetype": "text/x-python",
   "name": "python",
   "nbconvert_exporter": "python",
   "pygments_lexer": "ipython3",
   "version": "3.10.9"
  }
 },
 "nbformat": 4,
 "nbformat_minor": 5
}
