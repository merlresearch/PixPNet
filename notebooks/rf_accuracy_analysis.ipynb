{
 "cells": [
  {
   "cell_type": "code",
   "execution_count": null,
   "metadata": {},
   "outputs": [],
   "source": [
    "% matplotlib inline"
   ]
  },
  {
   "cell_type": "code",
   "execution_count": null,
   "metadata": {},
   "outputs": [],
   "source": [
    "import pandas as pd\n",
    "import seaborn as sns"
   ]
  },
  {
   "cell_type": "code",
   "execution_count": null,
   "metadata": {},
   "outputs": [],
   "source": [
    "sns.set(\n",
    "    style='ticks',\n",
    "    context='talk',\n",
    ")"
   ]
  },
  {
   "cell_type": "code",
   "execution_count": null,
   "metadata": {},
   "outputs": [],
   "source": [
    "from matplotlib import rc\n",
    "\n",
    "rc('font', **{\n",
    "    'family': 'serif',\n",
    "    'sans-serif': ['Times']\n",
    "})\n",
    "rc('text', usetex=True)"
   ]
  },
  {
   "cell_type": "markdown",
   "metadata": {
    "collapsed": false
   },
   "source": [
    "# To Run\n",
    "Be sure to replace `hackjob_results_<timestamp>.csv` with the path to the result of running `scripts/hackjobs.py`."
   ]
  },
  {
   "cell_type": "code",
   "execution_count": null,
   "metadata": {
    "scrolled": true
   },
   "outputs": [],
   "source": [
    "import os.path as osp\n",
    "import re\n",
    "\n",
    "dirname = osp.join('..', 'results', 'hackjob')\n",
    "filenames = [\n",
    "    'hackjob_results_<timestamp>.csv',\n",
    "]\n",
    "df_hackjob = pd.concat([\n",
    "    pd.read_csv(osp.join(dirname, filename)).rename(\n",
    "        columns={'Test Accuracy Epoch': 'Test Accuracy',\n",
    "                 'Test Accuracy Top5 Epoch': 'Test Accuracy Top5'})\n",
    "    for filename in filenames\n",
    "], ignore_index=True)\n",
    "\n",
    "\n",
    "def model_sort(value):\n",
    "    match = re.search(r'^([^\\d]*)(\\d+).*$', value)\n",
    "    if match is None:\n",
    "        return (value, 0)\n",
    "    name, num = match.groups()\n",
    "    return (name, int(num))\n",
    "\n",
    "\n",
    "df_hackjob.sort_values(by=['Dataset', 'Model'], inplace=True,\n",
    "                       key=lambda col: col.apply(model_sort))\n",
    "df_hackjob"
   ]
  },
  {
   "cell_type": "code",
   "execution_count": null,
   "metadata": {},
   "outputs": [],
   "source": [
    "df_sub = df_hackjob[['Model', 'Stage Name']]\n",
    "for model, df_sub_model in df_sub.groupby('Model'):\n",
    "    print('        ', model.replace('_', r'\\_'), '&', ','.join(df_sub_model['Stage Name'].values).replace('_', r'\\_'),\n",
    "          r'\\\\')"
   ]
  },
  {
   "cell_type": "code",
   "execution_count": null,
   "metadata": {},
   "outputs": [],
   "source": [
    "root_dir = osp.dirname(osp.realpath('.'))\n",
    "try:\n",
    "    import pixpnet\n",
    "except ImportError:\n",
    "    import sys\n",
    "\n",
    "    sys.path.append(root_dir)\n",
    "\n",
    "    import pixpnet"
   ]
  },
  {
   "cell_type": "code",
   "execution_count": null,
   "metadata": {},
   "outputs": [],
   "source": [
    "import numpy as np\n",
    "from pixpnet.symbolic import models as sym_models\n",
    "\n",
    "\n",
    "def compute_rf_stats(model_name, height, width, stage_names):\n",
    "    out, intermediates = sym_models.compute_rf_data(\n",
    "        model_name, height, width, num_classes=1)\n",
    "    assert all(name in intermediates for name in stage_names), (\n",
    "        stage_names, intermediates.keys())\n",
    "\n",
    "    stats = []\n",
    "    for stage_name in stage_names:\n",
    "        intermediate = intermediates[stage_name]\n",
    "        if getattr(intermediate, 'identical_channels', False):\n",
    "            intermediate = intermediate[:, 0]\n",
    "        intermediate = intermediate.flatten()\n",
    "        inter_inp_symbols_lens = [*map(len, intermediate)]\n",
    "        stats.append(np.mean(inter_inp_symbols_lens))\n",
    "    return stats  # Patch Sizes"
   ]
  },
  {
   "cell_type": "code",
   "execution_count": null,
   "metadata": {},
   "outputs": [],
   "source": [
    "def assert_same(df, col):\n",
    "    uniq_col = df.loc[:, col].unique()\n",
    "    assert len(uniq_col) == 1, f'{col} is not unique with {len(uniq_col)} values: {uniq_col}'\n",
    "    return uniq_col[0]"
   ]
  },
  {
   "cell_type": "code",
   "execution_count": null,
   "metadata": {
    "scrolled": true
   },
   "outputs": [],
   "source": [
    "df_hackjob = df_hackjob[~df_hackjob.loc[:, 'Stage Name'].isin({'norm0', 'norm5'})]  # fix for densenets\n",
    "patch_sizes = []\n",
    "for (ds_name, model_name), df_ds_model in df_hackjob.groupby(\n",
    "        ['Dataset', 'Model'], sort=False):\n",
    "    print(model_name)\n",
    "    height = assert_same(df_ds_model, 'Height')\n",
    "    width = assert_same(df_ds_model, 'Width')\n",
    "    stage_names = df_ds_model['Stage Name']\n",
    "    patch_sizes.extend(compute_rf_stats(\n",
    "        model_name, height, width, stage_names))"
   ]
  },
  {
   "cell_type": "code",
   "execution_count": null,
   "metadata": {},
   "outputs": [],
   "source": [
    "df = df_hackjob.copy()\n",
    "df['Patch Size'] = patch_sizes\n",
    "df['Size'] = df['Height'] * df['Width']\n",
    "df['Image Size'] = df['Height'].astype(str) + ' × ' + df['Width'].astype(str)\n",
    "df['Patch % of Image'] = df['Patch Size'] / df['Size'] * 100\n",
    "stage_num_normed = []\n",
    "for _, df_model in df.groupby(['Dataset', 'Model'], sort=False):\n",
    "    stage_num_normed.append(\n",
    "        (df_model['Stage #'] - df_model['Stage #'].min()) /\n",
    "        (df_model['Stage #'].max() - df_model['Stage #'].min())\n",
    "    )\n",
    "df['Stage # Norm'] = pd.concat(stage_num_normed, ignore_index=True)\n",
    "df"
   ]
  },
  {
   "cell_type": "code",
   "execution_count": null,
   "metadata": {},
   "outputs": [],
   "source": [
    "g = sns.relplot(\n",
    "    data=df,\n",
    "    x='Patch % of Image',\n",
    "    y='Test Accuracy',\n",
    "    hue='Model',\n",
    "    style='Model',\n",
    "    markers=True,\n",
    "    kind='scatter',\n",
    "    row='Dataset',\n",
    "    height=8,\n",
    "    s=200,\n",
    ")\n",
    "g.set(xscale='log')"
   ]
  },
  {
   "cell_type": "code",
   "execution_count": null,
   "metadata": {},
   "outputs": [],
   "source": [
    "from pixpnet.utils import is_pareto_efficient\n",
    "\n",
    "df['Pareto Rank'] = -1\n",
    "df_running = df\n",
    "rank = 1\n",
    "max_rank = np.inf\n",
    "while len(df_running) and not rank >= max_rank:\n",
    "    nd_mask = is_pareto_efficient(\n",
    "        df_running[['Test Accuracy', 'Patch % of Image']].values,\n",
    "        maximize=[True, False],\n",
    "    )\n",
    "    df.loc[df_running.index[nd_mask], 'Pareto Rank'] = rank\n",
    "    df_running = df_running[~nd_mask]\n",
    "    rank += 1\n",
    "df"
   ]
  },
  {
   "cell_type": "code",
   "execution_count": null,
   "metadata": {},
   "outputs": [],
   "source": [
    "from adjustText import adjust_text\n",
    "\n",
    "df_tex = df.copy()\n",
    "df_tex['Model'] = df_tex['Model'].apply(\n",
    "    lambda s: re.sub(r'vgg(\\d+)_bn', r'vgg\\1', s))\n",
    "df_tex['Model'] = df_tex['Model'].str.replace('_', '\\\\_')\n",
    "\n",
    "g = sns.relplot(\n",
    "    data=df_tex[df_tex['Pareto Rank'] < 2],\n",
    "    x='Patch % of Image',\n",
    "    y='Test Accuracy',\n",
    "    hue='Model',\n",
    "    style='Model',\n",
    "    markers=True,\n",
    "    kind='scatter',\n",
    "    height=6,\n",
    "    s=250,\n",
    ")\n",
    "\n",
    "\n",
    "def maybe_int(v):\n",
    "    try:\n",
    "        return int(v)\n",
    "    except ValueError:\n",
    "        return v\n",
    "\n",
    "\n",
    "for ax in g.axes.flat:\n",
    "    df_nd = df_tex[df_tex['Pareto Rank'] == 1]\n",
    "    df_nd_sort = df_nd.sort_values(by=g._x_var)\n",
    "    ax.step(df_nd_sort[g._x_var], df_nd_sort[g._y_var], c='gray', linestyle='--',\n",
    "            linewidth=1.5, where='post')\n",
    "    texts = []\n",
    "    for i in df_nd.index:\n",
    "        txt = ax.text(\n",
    "            df_nd.loc[i, g._x_var] + 2.5,\n",
    "            df_nd.loc[i, g._y_var],\n",
    "            df_nd.loc[i, 'Stage Name'],\n",
    "            horizontalalignment='left',\n",
    "            size='small', color='black'\n",
    "        )\n",
    "        texts.append(txt)\n",
    "    adjust_text(texts, only_move={'points': 'y', 'texts': 'y'},\n",
    "                arrowprops=dict(arrowstyle=\"-\", color='gray', lw=1))\n",
    "\n",
    "    ax.set_xlabel('Mean Receptive Field Size (\\\\%)')\n",
    "\n",
    "# Uncomment to save figure\n",
    "# !mkdir -p ../ figures\n",
    "# g.savefig('../figures/imagenette_rf_vs_accuracy_pareto_front.pdf')"
   ]
  }
 ],
 "metadata": {
  "kernelspec": {
   "display_name": "ngn",
   "language": "python",
   "name": "ngn"
  },
  "language_info": {
   "codemirror_mode": {
    "name": "ipython",
    "version": 3
   },
   "file_extension": ".py",
   "mimetype": "text/x-python",
   "name": "python",
   "nbconvert_exporter": "python",
   "pygments_lexer": "ipython3",
   "version": "3.10.9"
  }
 },
 "nbformat": 4,
 "nbformat_minor": 4
}
